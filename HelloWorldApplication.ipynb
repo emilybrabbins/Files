{
 "cells": [
  {
   "cell_type": "code",
   "execution_count": null,
   "id": "a1e416c7-811c-4657-8587-c836e0ada575",
   "metadata": {
    "dotnet_interactive": {
     "language": "csharp"
    },
    "vscode": {
     "languageId": "dotnet-interactive.csharp"
    }
   },
   "outputs": [],
   "source": [
    "using System;\n",
    "\n",
    "namespace HelloWorldApplication {\n",
    "   class HelloWorld {\n",
    "      static void Main(string[] args) {\n",
    "         /* my first program in C# */\n",
    "         Console.WriteLine(\"Hello World\");\n",
    "         Console.ReadKey();\n",
    "      }\n",
    "   }\n",
    "}"
   ]
  }
 ],
 "metadata": {
  "kernelspec": {
   "display_name": ".NET (C#)",
   "language": "C#",
   "name": ".net-csharp"
  },
  "language_info": {
   "file_extension": ".cs",
   "mimetype": "text/x-csharp",
   "name": "C#",
   "pygments_lexer": "csharp",
   "version": "10.0"
  }
 },
 "nbformat": 4,
 "nbformat_minor": 5
}
