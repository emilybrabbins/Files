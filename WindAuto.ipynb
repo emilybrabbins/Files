{
 "cells": [
  {
   "cell_type": "code",
   "execution_count": 1,
   "id": "7a1310f3-6f7e-46ed-ad2e-726b322689d2",
   "metadata": {},
   "outputs": [
    {
     "name": "stdout",
     "output_type": "stream",
     "text": [
      "2022-07-08 09:34:04\n"
     ]
    }
   ],
   "source": [
    "from datetime import datetime, timedelta\n",
    "last_hour_date_time = datetime.now()\n",
    "print(last_hour_date_time.strftime('%Y-%m-%d %H:%M:%S'))"
   ]
  },
  {
   "cell_type": "code",
   "execution_count": null,
   "id": "7eff6e36-238a-4ae1-b668-80d8bf87d56f",
   "metadata": {},
   "outputs": [],
   "source": [
    "\n",
    "\n",
    "\n"
   ]
  },
  {
   "cell_type": "code",
   "execution_count": 2,
   "id": "fba82861-7b5e-4397-9a4a-9cb80e8ef334",
   "metadata": {},
   "outputs": [
    {
     "name": "stdout",
     "output_type": "stream",
     "text": [
      "2022-07-08 09:00:00\n"
     ]
    }
   ],
   "source": [
    "import datetime as dt\n",
    "current = dt.datetime.now()\n",
    "current_td = dt.timedelta(\n",
    "    hours = current.hour -1, \n",
    "    minutes = current.minute, \n",
    "    seconds = current.second, \n",
    "    microseconds = current.microsecond)\n",
    "to_hour = dt.timedelta(hours = round(current_td.total_seconds() / 3600))\n",
    "print(dt.datetime.combine(current, dt.time(0)) + to_hour)"
   ]
  },
  {
   "cell_type": "code",
   "execution_count": null,
   "id": "40605ca3-22a9-4cc9-8421-d7070bc16736",
   "metadata": {},
   "outputs": [],
   "source": []
  }
 ],
 "metadata": {
  "kernelspec": {
   "display_name": "Python 3.10.7 64-bit",
   "language": "python",
   "name": "python3"
  },
  "language_info": {
   "codemirror_mode": {
    "name": "ipython",
    "version": 3
   },
   "file_extension": ".py",
   "mimetype": "text/x-python",
   "name": "python",
   "nbconvert_exporter": "python",
   "pygments_lexer": "ipython3",
   "version": "3.10.7"
  },
  "vscode": {
   "interpreter": {
    "hash": "50f119db8c21d7f86ac4694d3d3e48d5c8950d8e3b61bb3fc2a62d1dbeee65a8"
   }
  }
 },
 "nbformat": 4,
 "nbformat_minor": 5
}
