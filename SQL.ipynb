{
 "cells": [
  {
   "cell_type": "code",
   "execution_count": 23,
   "id": "1e9645cd-4969-4b79-b31a-da4322ae4e66",
   "metadata": {},
   "outputs": [],
   "source": [
    "#-------------------------------------------------------------------------------\n",
    "# Name:        checkSQLServer\n",
    "# Purpose:      Python startup script for FME Workbench\n",
    "#\n",
    "# Author:      mgiesbrecht\n",
    "#\n",
    "# Created:     09/08/2019\n",
    "# Sources:      https://github.com/mkleehammer/pyodbc/issues/106,https://datatofish.com/how-to-connect-python-to-sql-server-using-pyodbc/\n",
    "#-------------------------------------------------------------------------------\n",
    "\n",
    "import pyodbc\n",
    "import pandas as pd\n",
    "import numpy as np\n",
    "#conn = pyodbc.connect('Driver={SQL Server};'\n",
    "#                      'Server=SQLDEVCGY127;'\n",
    "#                      'Database=ArcGISDev;'\n",
    "#                      'Trusted_Connection=yes;')\n",
    "\n",
    "SQL_ATTR_CONNECTION_TIMEOUT = 113\n",
    "#FHMines SQL Server DB\n",
    "#sqlStatement = \"SELECT top (100) [ID] [Origin], [Destination], [Grade], [Material], [HaulDist], [HaulDistCalc], [HaulPath].STAsText() AS HaulPathStr FROM [FHMineSystems].[hist].[ss_gpspath] AS HD WHERE HD.Loaded = 1\"\n",
    "connection_string ='Driver={SQL Server};Server=tcp:*******database.database.windows.net,1433;Database=*****************;UID=************;PWD=*****************'\n",
    "\n",
    "#connection_string ='Driver={SQL Server};Server=SQLPRDCGY157;Database=MDR;UID=*********;PWD=****************'\n",
    "login_timeout = 1\n",
    "connection_timeout = 30\n",
    "conn = pyodbc.connect(connection_string, timeout=login_timeout, attrs_before={SQL_ATTR_CONNECTION_TIMEOUT : connection_timeout})\n",
    "cursor = conn.cursor()\n",
    "    #cursor.execute(sqlStatement)\n",
    "    #for row in cursor:\n",
    "    #    #print(row)\n",
    "    #    print(\"SQL Execution successful\")\n",
    "#except pyodbc.Error as ex:\n",
    "#        sqlstate = ex.args[1]\n",
    "#        print(sqlstate)"
   ]
  },
  {
   "cell_type": "code",
   "execution_count": null,
   "id": "8664c03b-4405-4ef1-a130-57183e83814a",
   "metadata": {},
   "outputs": [],
   "source": [
    "print(conn)"
   ]
  },
  {
   "cell_type": "code",
   "execution_count": 25,
   "id": "b998131f-52cd-4eb0-9771-af543ff34b0b",
   "metadata": {},
   "outputs": [],
   "source": [
    "result = cursor.execute('SELECT * FROM dbo.AzureBlobStorageFile ORDER BY dateModified DESC')\n",
    "rows = result.fetchall()\n",
    "cols = []\n",
    "for i,_ in enumerate(result.description):\n",
    "    cols.append(result.description[i][0])\n",
    "\n",
    "df = pd.DataFrame(np.array(rows), columns=cols)\n"
   ]
  },
  {
   "cell_type": "code",
   "execution_count": 26,
   "id": "06d12260-4ce9-4dc5-b0b4-5141aebf9017",
   "metadata": {},
   "outputs": [
    {
     "name": "stdout",
     "output_type": "stream",
     "text": [
      "        BeginDate     EndDate Trades TotalVolume  Open  High   Low    Settle  \\\n",
      "0      2022-09-24  2022-09-24      0           0  None  None  None     160.0   \n",
      "1      2022-09-25  2022-09-25      0           0  None  None  None     125.0   \n",
      "2      2022-09-26  2022-09-26      0           0  None  None  None     300.0   \n",
      "3      2022-09-27  2022-09-27      0           0  None  None  None     300.0   \n",
      "4      2022-09-28  2022-09-28      0           0  None  None  None     300.0   \n",
      "...           ...         ...    ...         ...   ...   ...   ...       ...   \n",
      "36240  2031-05-01  2031-05-31      0           0  None  None  None      68.5   \n",
      "36241  2031-06-01  2031-06-30      0           0  None  None  None      68.5   \n",
      "36242  2031-07-01  2031-07-31      0           0  None  None  None      68.5   \n",
      "36243  2031-08-01  2031-08-31      0           0  None  None  None      68.5   \n",
      "36244  2022-09-01  2022-09-30      0           0  None  None  None  154.5243   \n",
      "\n",
      "         netOI DateModified  \n",
      "0            0   2022-09-26  \n",
      "1            0   2022-09-26  \n",
      "2            0   2022-09-26  \n",
      "3            0   2022-09-26  \n",
      "4            0   2022-09-26  \n",
      "...        ...          ...  \n",
      "36240        0   2022-09-08  \n",
      "36241        0   2022-09-08  \n",
      "36242        0   2022-09-08  \n",
      "36243        0   2022-09-08  \n",
      "36244  1203120   2022-09-08  \n",
      "\n",
      "[36245 rows x 10 columns]\n"
     ]
    }
   ],
   "source": [
    "print(df)"
   ]
  }
 ],
 "metadata": {
  "kernelspec": {
   "display_name": "Python 3.10.7 64-bit",
   "language": "python",
   "name": "python3"
  },
  "language_info": {
   "codemirror_mode": {
    "name": "ipython",
    "version": 3
   },
   "file_extension": ".py",
   "mimetype": "text/x-python",
   "name": "python",
   "nbconvert_exporter": "python",
   "pygments_lexer": "ipython3",
   "version": "3.10.7"
  },
  "vscode": {
   "interpreter": {
    "hash": "50f119db8c21d7f86ac4694d3d3e48d5c8950d8e3b61bb3fc2a62d1dbeee65a8"
   }
  }
 },
 "nbformat": 4,
 "nbformat_minor": 5
}
