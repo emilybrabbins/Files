{
 "cells": [
  {
   "cell_type": "code",
   "execution_count": null,
   "id": "25ab140a-1dd2-465e-9178-efef59ebbaf8",
   "metadata": {
    "dotnet_interactive": {
     "language": "csharp"
    },
    "vscode": {
     "languageId": "dotnet-interactive.csharp"
    }
   },
   "outputs": [],
   "source": [
    "import numpy as np\n",
    "import pandas as pd\n",
    "import matplotlib.pyplot as plt\n",
    "from statsmodels.nonparametric.kernel_regression import KernelReg\n",
    "\n",
    "df = pd.read_csv('kde_chocolate.csv')\n",
    "\n",
    "n = df.shape[0]\n",
    "kde = KernelReg(endog=df['chocolate'], exog=np.arange(n), var_type='c', bw=[6.2])\n",
    "kde1 = KernelReg(endog=df['chocolate'], exog=np.arange(n), var_type='c', bw=[8])\n",
    "estimator = kde.fit(np.arange(n))\n",
    "estimator1 = kde1.fit(np.arange(n))\n",
    "estimator = np.reshape(estimator[0],n)\n",
    "estimator1 = np.reshape(estimator1[0],n)\n",
    "\n",
    "fig, ax = plt.subplots(figsize=(10,5))\n",
    "\n",
    "ax.plot(df['month'], df['chocolate'], '-',alpha=0.5)\n",
    "ax.plot(df['month'], estimator, '-', color='tab:red', alpha=0.8)\n",
    "ax.plot(df['month'], estimator1, '-', color='tab:green', alpha=0.8)\n",
    "ax.set_ylim(bottom=0, top=2000)\n",
    "ax.set_xticks(['2021-07','2021-08'])\n",
    "\n",
    "plt.show()"
   ]
  },
  {
   "cell_type": "code",
   "execution_count": null,
   "id": "fe54ac91-96f2-4364-baaf-cf2bf7783739",
   "metadata": {
    "dotnet_interactive": {
     "language": "csharp"
    },
    "vscode": {
     "languageId": "dotnet-interactive.csharp"
    }
   },
   "outputs": [],
   "source": [
    "print(estimator)"
   ]
  }
 ],
 "metadata": {
  "kernelspec": {
   "display_name": ".NET (C#)",
   "language": "C#",
   "name": ".net-csharp"
  },
  "language_info": {
   "file_extension": ".cs",
   "mimetype": "text/x-csharp",
   "name": "C#",
   "pygments_lexer": "csharp",
   "version": "9.0"
  }
 },
 "nbformat": 4,
 "nbformat_minor": 5
}
