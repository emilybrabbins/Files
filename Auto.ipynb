{
 "cells": [
  {
   "cell_type": "code",
   "execution_count": null,
   "id": "ae455464-5292-46d5-8ee4-3f6c8c0807b2",
   "metadata": {},
   "outputs": [],
   "source": [
    "import pandas as pd\n",
    "import numpy as np\n",
    "import matplotlib.pyplot as plt\n",
    "#\n",
    "# Load AutoReg class from statsmodels.tsa.ar_model module\n",
    "#\n",
    "from statsmodels.tsa.ar_model import AutoReg\n",
    "# Load and plot the time-series data\n",
    "#\n",
    "url='https://raw.githubusercontent.com/jenfly/opsd/master/opsd_germany_daily.csv'\n",
    "df = pd.read_csv(url,sep=\",\")\n",
    "csv_data = df.to_csv('ga.csv')\n",
    "df['Consumption'].plot()"
   ]
  },
  {
   "cell_type": "code",
   "execution_count": null,
   "id": "3291cc1c-6035-491e-8eed-dfee763517f1",
   "metadata": {},
   "outputs": [],
   "source": [
    "#\n",
    "# Check for stationarity of the time-series data\n",
    "# We will look for p-value. In case, p-value is less than 0.05, the time series\n",
    "# data can said to have stationarity\n",
    "#\n",
    "from statsmodels.tsa.stattools import adfuller\n",
    "#\n",
    "# Run the test\n",
    "#\n",
    "df_stationarityTest = adfuller(df['Consumption'], autolag='AIC')\n",
    "#\n",
    "# Check the value of p-value\n",
    "#\n",
    "print(\"P-value: \", df_stationarityTest[1])\n",
    "#\n",
    "# Next step is to find the order of AR model to be trained\n",
    "# for this, we will plot partial autocorrelation plot to assess\n",
    "# the direct effect of past data on future data\n",
    "#\n",
    "from statsmodels.graphics.tsaplots import plot_pacf\n",
    "pacf = plot_pacf(df['Consumption'], lags=25)"
   ]
  },
  {
   "cell_type": "code",
   "execution_count": null,
   "id": "e3861a55-10b4-4d8d-a350-361350d81d77",
   "metadata": {},
   "outputs": [],
   "source": [
    "#\n",
    "# Create training and test data\n",
    "#\n",
    "train_data = df['Consumption'][:len(df)-100]\n",
    "test_data = df['Consumption'][len(df)-100:]\n",
    "#\n",
    "# Instantiate and fit the AR model with training data\n",
    "#\n",
    "ar_model = AutoReg(train_data, lags=8).fit()\n",
    "#\n",
    "# Print Summary\n",
    "#\n",
    "print(ar_model.summary())"
   ]
  },
  {
   "cell_type": "code",
   "execution_count": null,
   "id": "9786626a-cee9-4022-9ad9-f698e0fc6670",
   "metadata": {},
   "outputs": [],
   "source": [
    "#\n",
    "# Make the predictions\n",
    "#\n",
    "pred = ar_model.predict(start=len(train_data), end=(len(df)-1), dynamic=False)\n",
    "#\n",
    "# Plot the prediction vs test data\n",
    "#\n",
    "from matplotlib import pyplot\n",
    "pyplot.plot(pred)\n",
    "pyplot.plot(test_data, color='red')"
   ]
  }
 ],
 "metadata": {
  "kernelspec": {
   "display_name": "Python 3.10.7 64-bit",
   "language": "python",
   "name": "python3"
  },
  "language_info": {
   "codemirror_mode": {
    "name": "ipython",
    "version": 3
   },
   "file_extension": ".py",
   "mimetype": "text/x-python",
   "name": "python",
   "nbconvert_exporter": "python",
   "pygments_lexer": "ipython3",
   "version": "3.10.7"
  },
  "vscode": {
   "interpreter": {
    "hash": "50f119db8c21d7f86ac4694d3d3e48d5c8950d8e3b61bb3fc2a62d1dbeee65a8"
   }
  }
 },
 "nbformat": 4,
 "nbformat_minor": 5
}
